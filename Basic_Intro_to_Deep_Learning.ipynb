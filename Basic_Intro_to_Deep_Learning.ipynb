{
  "nbformat": 4,
  "nbformat_minor": 0,
  "metadata": {
    "colab": {
      "name": "Basic_Intro_to_Deep_Learning.ipynb",
      "provenance": [],
      "collapsed_sections": [],
      "authorship_tag": "ABX9TyPfADyD01OmqxbL4PX3YKMq",
      "include_colab_link": true
    },
    "kernelspec": {
      "name": "python3",
      "display_name": "Python 3"
    },
    "language_info": {
      "name": "python"
    }
  },
  "cells": [
    {
      "cell_type": "markdown",
      "metadata": {
        "id": "view-in-github",
        "colab_type": "text"
      },
      "source": [
        "<a href=\"https://colab.research.google.com/github/mohsinkamal001/Deep_Learning/blob/main/Basic_Intro_to_Deep_Learning.ipynb\" target=\"_parent\"><img src=\"https://colab.research.google.com/assets/colab-badge.svg\" alt=\"Open In Colab\"/></a>"
      ]
    },
    {
      "cell_type": "markdown",
      "source": [
        "### **Author**: Mohsin Kamal.\n",
        "#### ***Date created***: 2022/03/06\n",
        "#### ***Last modified***: 2022/02/06\n",
        "\n",
        "#### **Description**: This tutorial gives an intro to deep learning starting off from a single neuron and training a very simple net which identifies positive or negative pair of numbers.\n",
        "\n",
        "#### **Learning Objectives**: At the end of this tutorial, participants will be able to:\n",
        "*  understand the general workflow of training neural networks\n",
        "*  implement a small neural networks in pure NumPy\n",
        "\n",
        "\n"
      ],
      "metadata": {
        "id": "djIPyNaHit_G"
      }
    },
    {
      "cell_type": "code",
      "execution_count": null,
      "metadata": {
        "id": "E9ezItmAKib1"
      },
      "outputs": [],
      "source": [
        "import numpy as np\n",
        "import matplotlib.pyplot as plt\n",
        "\n",
        "#Reproducibility\n",
        "np.random.seed(0)\n",
        "#seed(could be any number)"
      ]
    },
    {
      "cell_type": "markdown",
      "source": [
        "Define an artificial Neuron(Neo)"
      ],
      "metadata": {
        "id": "mJG0UyZ3YsXz"
      }
    },
    {
      "cell_type": "code",
      "source": [
        "def Sigmoid(x):\n",
        "  return "
      ],
      "metadata": {
        "id": "t_Nt6Kf7YoV2"
      },
      "execution_count": null,
      "outputs": []
    }
  ]
}